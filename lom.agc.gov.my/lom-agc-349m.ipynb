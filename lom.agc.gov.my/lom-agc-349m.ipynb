{
 "cells": [
  {
   "cell_type": "code",
   "execution_count": 1,
   "id": "5f923958",
   "metadata": {},
   "outputs": [],
   "source": [
    "from transformers import AutoModel, AutoTokenizer\n",
    "import torch\n",
    "import json\n",
    "from tqdm import tqdm\n",
    "import numpy as np\n",
    "from sklearn.metrics.pairwise import cosine_similarity"
   ]
  },
  {
   "cell_type": "code",
   "execution_count": 2,
   "id": "2b791bc8",
   "metadata": {},
   "outputs": [
    {
     "name": "stdout",
     "output_type": "stream",
     "text": [
      "[2023-12-04 03:19:14,179] [INFO] [real_accelerator.py:133:get_accelerator] Setting ds_accelerator to cuda (auto detect)\n"
     ]
    },
    {
     "name": "stderr",
     "output_type": "stream",
     "text": [
      "You are attempting to use Flash Attention 2.0 with a model initialized on CPU. Make sure to move the model to GPU after initializing it on CPU with `model.to('cuda')`.\n"
     ]
    }
   ],
   "source": [
    "model = AutoModel.from_pretrained(\n",
    "    'mesolitica/mistral-embedding-349m-8k-contrastive',\n",
    "    use_flash_attention_2 = True, \n",
    "    torch_dtype = torch.bfloat16,\n",
    "    trust_remote_code = True,\n",
    ")"
   ]
  },
  {
   "cell_type": "code",
   "execution_count": 3,
   "id": "134291ab",
   "metadata": {},
   "outputs": [],
   "source": [
    "_ = model.cuda()"
   ]
  },
  {
   "cell_type": "code",
   "execution_count": 4,
   "id": "3da0c220",
   "metadata": {},
   "outputs": [],
   "source": [
    "tokenizer = AutoTokenizer.from_pretrained('mesolitica/mistral-embedding-349m-8k-contrastive')"
   ]
  },
  {
   "cell_type": "code",
   "execution_count": 5,
   "id": "b35ffd45",
   "metadata": {},
   "outputs": [
    {
     "data": {
      "text/plain": [
       "(8034, 8034)"
      ]
     },
     "execution_count": 5,
     "metadata": {},
     "output_type": "execute_result"
    }
   ],
   "source": [
    "contexts, questions = [], []\n",
    "\n",
    "with open('/home/ubuntu/lom-agc/ultrachat-lom-agc.jsonl') as fopen:\n",
    "    for l in fopen:\n",
    "        l = json.loads(l)\n",
    "        if l[1]['content_ms']:\n",
    "            contexts.append(l[0]['content'].strip())\n",
    "            questions.append(l[1]['content_ms'].strip())\n",
    "            \n",
    "len(contexts), len(questions)"
   ]
  },
  {
   "cell_type": "code",
   "execution_count": 6,
   "id": "6b53634e",
   "metadata": {},
   "outputs": [
    {
     "name": "stderr",
     "output_type": "stream",
     "text": [
      "100%|██████████| 8034/8034 [02:51<00:00, 46.73it/s]\n"
     ]
    }
   ],
   "source": [
    "contexts_v = []\n",
    "for i in tqdm(range(len(contexts))):\n",
    "    input_ids = tokenizer([contexts[i]], \n",
    "        return_tensors = 'pt',\n",
    "        padding = True\n",
    "    )\n",
    "    v = model.encode(input_ids.to('cuda')).detach().cpu().numpy()\n",
    "    contexts_v.append(v)"
   ]
  },
  {
   "cell_type": "code",
   "execution_count": 7,
   "id": "6f975213",
   "metadata": {},
   "outputs": [
    {
     "name": "stderr",
     "output_type": "stream",
     "text": [
      "100%|██████████| 8034/8034 [02:45<00:00, 48.69it/s]\n"
     ]
    }
   ],
   "source": [
    "questions_v = []\n",
    "for i in tqdm(range(len(contexts_v))):\n",
    "    input_ids = tokenizer([questions[i]], \n",
    "        return_tensors = 'pt',\n",
    "        padding = True\n",
    "    )\n",
    "    v = model.encode(input_ids.to('cuda')).detach().cpu().numpy()\n",
    "    questions_v.append(v)"
   ]
  },
  {
   "cell_type": "code",
   "execution_count": 8,
   "id": "5d91f50b",
   "metadata": {},
   "outputs": [],
   "source": [
    "contexts_v_np = np.array(contexts_v)[:,0]\n",
    "questions_v_np = np.array(questions_v)[:,0]"
   ]
  },
  {
   "cell_type": "code",
   "execution_count": 9,
   "id": "034e59b6",
   "metadata": {},
   "outputs": [
    {
     "name": "stderr",
     "output_type": "stream",
     "text": [
      "100%|██████████| 8034/8034 [01:08<00:00, 116.65it/s]\n"
     ]
    }
   ],
   "source": [
    "tops = {\n",
    "    1: 0,\n",
    "    3: 0,\n",
    "    5: 0,\n",
    "    10: 0,\n",
    "}\n",
    "\n",
    "for i in tqdm(range(len(questions_v_np))):\n",
    "    argsort = np.argsort(cosine_similarity(questions_v_np[i].reshape(1, -1), contexts_v_np)[0])[::-1]\n",
    "    for k in tops.keys():\n",
    "        if i in argsort[:k]:\n",
    "            tops[k] += 1"
   ]
  },
  {
   "cell_type": "code",
   "execution_count": 10,
   "id": "8fcdb149",
   "metadata": {},
   "outputs": [
    {
     "name": "stdout",
     "output_type": "stream",
     "text": [
      "1 0.039581777445855115\n",
      "3 0.08849887976101568\n",
      "5 0.12335075927308937\n",
      "10 0.18558625840179238\n"
     ]
    }
   ],
   "source": [
    "for k, v in tops.items():\n",
    "    print(k, v / len(questions_v_np))"
   ]
  }
 ],
 "metadata": {
  "kernelspec": {
   "display_name": "Python 3 (ipykernel)",
   "language": "python",
   "name": "python3"
  },
  "language_info": {
   "codemirror_mode": {
    "name": "ipython",
    "version": 3
   },
   "file_extension": ".py",
   "mimetype": "text/x-python",
   "name": "python",
   "nbconvert_exporter": "python",
   "pygments_lexer": "ipython3",
   "version": "3.10.12"
  }
 },
 "nbformat": 4,
 "nbformat_minor": 5
}
