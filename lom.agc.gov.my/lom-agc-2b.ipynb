{
 "cells": [
  {
   "cell_type": "code",
   "execution_count": 1,
   "id": "16e2487a",
   "metadata": {},
   "outputs": [],
   "source": [
    "# !pip3 install torch --index-url https://download.pytorch.org/whl/cu118\n",
    "# !pip3 install transformers\n",
    "# !pip3 install flash-attn --no-build-isolation\n",
    "# !pip3 install scikit-learn"
   ]
  },
  {
   "cell_type": "code",
   "execution_count": 2,
   "id": "5f923958",
   "metadata": {},
   "outputs": [],
   "source": [
    "from transformers import AutoModel, AutoTokenizer\n",
    "import torch\n",
    "import json\n",
    "from tqdm import tqdm\n",
    "import numpy as np\n",
    "from sklearn.metrics.pairwise import cosine_similarity"
   ]
  },
  {
   "cell_type": "code",
   "execution_count": 3,
   "id": "2b791bc8",
   "metadata": {
    "scrolled": true
   },
   "outputs": [
    {
     "name": "stderr",
     "output_type": "stream",
     "text": [
      "The model was loaded with use_flash_attention_2=True, which is deprecated and may be removed in a future release. Please use `attn_implementation=\"flash_attention_2\"` instead.\n",
      "You are attempting to use Flash Attention 2.0 with a model not initialized on GPU. Make sure to move the model to GPU after initializing it on CPU with `model.to('cuda')`.\n"
     ]
    }
   ],
   "source": [
    "model = AutoModel.from_pretrained(\n",
    "    'mesolitica/llama2-embedding-2b-8k-contrastive',\n",
    "    use_flash_attention_2 = True, \n",
    "    torch_dtype = torch.bfloat16,\n",
    "    trust_remote_code = True,\n",
    ")"
   ]
  },
  {
   "cell_type": "code",
   "execution_count": 4,
   "id": "983a18f1",
   "metadata": {},
   "outputs": [],
   "source": [
    "_ = model.cuda()"
   ]
  },
  {
   "cell_type": "code",
   "execution_count": 5,
   "id": "8be2534d",
   "metadata": {},
   "outputs": [],
   "source": [
    "tokenizer = AutoTokenizer.from_pretrained('mesolitica/llama2-embedding-2b-8k-contrastive')"
   ]
  },
  {
   "cell_type": "code",
   "execution_count": 6,
   "id": "b35ffd45",
   "metadata": {},
   "outputs": [
    {
     "data": {
      "text/plain": [
       "(8034, 8034)"
      ]
     },
     "execution_count": 6,
     "metadata": {},
     "output_type": "execute_result"
    }
   ],
   "source": [
    "contexts, questions = [], []\n",
    "\n",
    "with open('ultrachat-lom-agc.jsonl') as fopen:\n",
    "    for l in fopen:\n",
    "        l = json.loads(l)\n",
    "        if l[1]['content_ms']:\n",
    "            contexts.append(l[0]['content'].strip())\n",
    "            questions.append(l[1]['content_ms'].strip())\n",
    "            \n",
    "len(contexts), len(questions)"
   ]
  },
  {
   "cell_type": "code",
   "execution_count": 7,
   "id": "6b53634e",
   "metadata": {},
   "outputs": [
    {
     "name": "stderr",
     "output_type": "stream",
     "text": [
      "100%|██████████| 8034/8034 [03:46<00:00, 35.48it/s]\n"
     ]
    }
   ],
   "source": [
    "contexts_v = []\n",
    "for i in tqdm(range(len(contexts))):\n",
    "    input_ids = tokenizer([contexts[i]], \n",
    "        return_tensors = 'pt',\n",
    "        padding = True\n",
    "    )\n",
    "    v = model.encode(input_ids.to('cuda')).detach().cpu().numpy()\n",
    "    contexts_v.append(v)"
   ]
  },
  {
   "cell_type": "code",
   "execution_count": 8,
   "id": "6f975213",
   "metadata": {},
   "outputs": [
    {
     "name": "stderr",
     "output_type": "stream",
     "text": [
      "100%|██████████| 8034/8034 [00:56<00:00, 142.29it/s]\n"
     ]
    }
   ],
   "source": [
    "questions_v = []\n",
    "for i in tqdm(range(len(contexts_v))):\n",
    "    input_ids = tokenizer([questions[i]], \n",
    "        return_tensors = 'pt',\n",
    "        padding = True\n",
    "    )\n",
    "    v = model.encode(input_ids.to('cuda')).detach().cpu().numpy()\n",
    "    questions_v.append(v)"
   ]
  },
  {
   "cell_type": "code",
   "execution_count": 9,
   "id": "5d91f50b",
   "metadata": {},
   "outputs": [],
   "source": [
    "contexts_v_np = np.array(contexts_v)[:,0]\n",
    "questions_v_np = np.array(questions_v)[:,0]"
   ]
  },
  {
   "cell_type": "code",
   "execution_count": 10,
   "id": "034e59b6",
   "metadata": {},
   "outputs": [
    {
     "name": "stderr",
     "output_type": "stream",
     "text": [
      "100%|██████████| 8034/8034 [03:22<00:00, 39.73it/s]\n"
     ]
    }
   ],
   "source": [
    "tops = {\n",
    "    1: 0,\n",
    "    3: 0,\n",
    "    5: 0,\n",
    "    10: 0,\n",
    "}\n",
    "\n",
    "for i in tqdm(range(len(questions_v_np))):\n",
    "    argsort = np.argsort(cosine_similarity(questions_v_np[i].reshape(1, -1), contexts_v_np)[0])[::-1]\n",
    "    for k in tops.keys():\n",
    "        if i in argsort[:k]:\n",
    "            tops[k] += 1"
   ]
  },
  {
   "cell_type": "code",
   "execution_count": 11,
   "id": "2a050fc6",
   "metadata": {},
   "outputs": [
    {
     "data": {
      "text/plain": [
       "array([ 959,  578,  952, 5255, 1079, 1912, 5249,  961, 5247,  944])"
      ]
     },
     "execution_count": 11,
     "metadata": {},
     "output_type": "execute_result"
    }
   ],
   "source": [
    "np.argsort(cosine_similarity(questions_v_np[i].reshape(1, -1), contexts_v_np)[0])[::-1][:10]"
   ]
  },
  {
   "cell_type": "code",
   "execution_count": 13,
   "id": "8fcdb149",
   "metadata": {},
   "outputs": [
    {
     "name": "stdout",
     "output_type": "stream",
     "text": [
      "1 0.1549663928304705\n",
      "3 0.29113766492407267\n",
      "5 0.3725416977844162\n",
      "10 0.4886731391585761\n"
     ]
    }
   ],
   "source": [
    "for k, v in tops.items():\n",
    "    print(k, v / len(questions_v_np))"
   ]
  },
  {
   "cell_type": "code",
   "execution_count": null,
   "id": "6ad22ec1",
   "metadata": {},
   "outputs": [],
   "source": []
  }
 ],
 "metadata": {
  "kernelspec": {
   "display_name": "Python 3 (ipykernel)",
   "language": "python",
   "name": "python3"
  },
  "language_info": {
   "codemirror_mode": {
    "name": "ipython",
    "version": 3
   },
   "file_extension": ".py",
   "mimetype": "text/x-python",
   "name": "python",
   "nbconvert_exporter": "python",
   "pygments_lexer": "ipython3",
   "version": "3.10.12"
  }
 },
 "nbformat": 4,
 "nbformat_minor": 5
}
