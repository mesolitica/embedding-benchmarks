{
 "cells": [
  {
   "cell_type": "code",
   "execution_count": 1,
   "id": "5f923958",
   "metadata": {},
   "outputs": [],
   "source": [
    "from transformers import AutoModel, AutoTokenizer\n",
    "import torch\n",
    "import json\n",
    "from tqdm import tqdm\n",
    "import numpy as np\n",
    "from sklearn.metrics.pairwise import cosine_similarity"
   ]
  },
  {
   "cell_type": "code",
   "execution_count": 2,
   "id": "ef1fb150",
   "metadata": {},
   "outputs": [
    {
     "name": "stdout",
     "output_type": "stream",
     "text": [
      "[2023-12-04 04:07:18,202] [INFO] [real_accelerator.py:133:get_accelerator] Setting ds_accelerator to cuda (auto detect)\n"
     ]
    },
    {
     "name": "stderr",
     "output_type": "stream",
     "text": [
      "You are attempting to use Flash Attention 2.0 with a model initialized on CPU. Make sure to move the model to GPU after initializing it on CPU with `model.to('cuda')`.\n"
     ]
    }
   ],
   "source": [
    "model = AutoModel.from_pretrained(\n",
    "    'mesolitica/llama2-embedding-1b-8k-contrastive',\n",
    "    use_flash_attention_2 = True, \n",
    "    torch_dtype = torch.bfloat16,\n",
    "    trust_remote_code = True,\n",
    ")"
   ]
  },
  {
   "cell_type": "code",
   "execution_count": 3,
   "id": "983a18f1",
   "metadata": {},
   "outputs": [],
   "source": [
    "_ = model.cuda()"
   ]
  },
  {
   "cell_type": "code",
   "execution_count": 4,
   "id": "8be2534d",
   "metadata": {},
   "outputs": [
    {
     "data": {
      "application/vnd.jupyter.widget-view+json": {
       "model_id": "b7693e03695b4d51a1fe02b0f897f751",
       "version_major": 2,
       "version_minor": 0
      },
      "text/plain": [
       "Downloading tokenizer_config.json:   0%|          | 0.00/963 [00:00<?, ?B/s]"
      ]
     },
     "metadata": {},
     "output_type": "display_data"
    },
    {
     "data": {
      "application/vnd.jupyter.widget-view+json": {
       "model_id": "9005a81601bf44c48cad4cb4b8606c9a",
       "version_major": 2,
       "version_minor": 0
      },
      "text/plain": [
       "Downloading (…)cial_tokens_map.json:   0%|          | 0.00/552 [00:00<?, ?B/s]"
      ]
     },
     "metadata": {},
     "output_type": "display_data"
    }
   ],
   "source": [
    "tokenizer = AutoTokenizer.from_pretrained('mesolitica/llama2-embedding-1b-8k-contrastive')"
   ]
  },
  {
   "cell_type": "code",
   "execution_count": 5,
   "id": "275656e1",
   "metadata": {},
   "outputs": [
    {
     "data": {
      "text/plain": [
       "(9673, 9673)"
      ]
     },
     "execution_count": 5,
     "metadata": {},
     "output_type": "execute_result"
    }
   ],
   "source": [
    "contexts, questions = [], []\n",
    "\n",
    "with open('/home/ubuntu/crossref-doi/ultrachat-crossref-melayu-malay.jsonl') as fopen:\n",
    "    for l in fopen:\n",
    "        l = json.loads(l)\n",
    "        if l[1]['content_ms']:\n",
    "            c = l[0]['content'].strip()\n",
    "            q = l[1]['content_ms'].strip()\n",
    "            if not len(c) or not len(q):\n",
    "                continue\n",
    "            contexts.append(c)\n",
    "            questions.append(q)\n",
    "            \n",
    "len(contexts), len(questions)"
   ]
  },
  {
   "cell_type": "code",
   "execution_count": 6,
   "id": "6b53634e",
   "metadata": {},
   "outputs": [
    {
     "name": "stderr",
     "output_type": "stream",
     "text": [
      "100%|██████████| 9673/9673 [07:58<00:00, 20.22it/s]\n"
     ]
    }
   ],
   "source": [
    "contexts_v = []\n",
    "for i in tqdm(range(len(contexts))):\n",
    "    input_ids = tokenizer([contexts[i]], \n",
    "        return_tensors = 'pt',\n",
    "        padding = True\n",
    "    )\n",
    "    v = model.encode(input_ids.to('cuda')).detach().cpu().numpy()\n",
    "    contexts_v.append(v)"
   ]
  },
  {
   "cell_type": "code",
   "execution_count": 7,
   "id": "6f975213",
   "metadata": {},
   "outputs": [
    {
     "name": "stderr",
     "output_type": "stream",
     "text": [
      "100%|██████████| 9673/9673 [00:54<00:00, 176.23it/s]\n"
     ]
    }
   ],
   "source": [
    "questions_v = []\n",
    "for i in tqdm(range(len(contexts_v))):\n",
    "    input_ids = tokenizer([questions[i]], \n",
    "        return_tensors = 'pt',\n",
    "        padding = True\n",
    "    )\n",
    "    v = model.encode(input_ids.to('cuda')).detach().cpu().numpy()\n",
    "    questions_v.append(v)"
   ]
  },
  {
   "cell_type": "code",
   "execution_count": 8,
   "id": "5d91f50b",
   "metadata": {},
   "outputs": [],
   "source": [
    "contexts_v_np = np.array(contexts_v)[:,0]\n",
    "questions_v_np = np.array(questions_v)[:,0]"
   ]
  },
  {
   "cell_type": "code",
   "execution_count": 9,
   "id": "034e59b6",
   "metadata": {},
   "outputs": [
    {
     "name": "stderr",
     "output_type": "stream",
     "text": [
      "100%|██████████| 9673/9673 [04:20<00:00, 37.14it/s]\n"
     ]
    }
   ],
   "source": [
    "tops = {\n",
    "    1: 0,\n",
    "    3: 0,\n",
    "    5: 0,\n",
    "    10: 0,\n",
    "}\n",
    "\n",
    "for i in tqdm(range(len(questions_v_np))):\n",
    "    argsort = np.argsort(cosine_similarity(questions_v_np[i].reshape(1, -1), contexts_v_np)[0])[::-1]\n",
    "    for k in tops.keys():\n",
    "        if i in argsort[:k]:\n",
    "            tops[k] += 1"
   ]
  },
  {
   "cell_type": "code",
   "execution_count": 10,
   "id": "8fcdb149",
   "metadata": {},
   "outputs": [
    {
     "name": "stdout",
     "output_type": "stream",
     "text": [
      "1 0.16489196733174816\n",
      "3 0.3281298459629898\n",
      "5 0.42623798201178537\n",
      "10 0.5487439263930528\n"
     ]
    }
   ],
   "source": [
    "for k, v in tops.items():\n",
    "    print(k, v / len(questions_v_np))"
   ]
  },
  {
   "cell_type": "code",
   "execution_count": null,
   "id": "00526652",
   "metadata": {},
   "outputs": [],
   "source": []
  }
 ],
 "metadata": {
  "kernelspec": {
   "display_name": "Python 3 (ipykernel)",
   "language": "python",
   "name": "python3"
  },
  "language_info": {
   "codemirror_mode": {
    "name": "ipython",
    "version": 3
   },
   "file_extension": ".py",
   "mimetype": "text/x-python",
   "name": "python",
   "nbconvert_exporter": "python",
   "pygments_lexer": "ipython3",
   "version": "3.10.12"
  }
 },
 "nbformat": 4,
 "nbformat_minor": 5
}
